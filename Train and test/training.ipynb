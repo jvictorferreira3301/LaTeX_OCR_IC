{
 "cells": [
  {
   "cell_type": "code",
   "execution_count": 2,
   "metadata": {},
   "outputs": [],
   "source": [
    "dataset = 'bootor'"
   ]
  },
  {
   "cell_type": "code",
   "execution_count": 73,
   "metadata": {},
   "outputs": [
    {
     "name": "stdout",
     "output_type": "stream",
     "text": [
      "Generate dataset\n"
     ]
    },
    {
     "name": "stderr",
     "output_type": "stream",
     "text": [
      "\n",
      "  0%|          | 0/720 [00:00<?, ?it/s]\n",
      "  2%|▏         | 17/720 [00:00<00:04, 162.85it/s]\n",
      "  5%|▍         | 35/720 [00:00<00:04, 169.53it/s]\n",
      "  8%|▊         | 54/720 [00:00<00:03, 174.91it/s]\n",
      " 10%|█         | 72/720 [00:00<00:03, 169.83it/s]\n",
      " 12%|█▎        | 90/720 [00:00<00:03, 162.64it/s]\n",
      " 15%|█▍        | 107/720 [00:00<00:03, 157.09it/s]\n",
      " 17%|█▋        | 125/720 [00:00<00:03, 161.92it/s]\n",
      " 20%|█▉        | 142/720 [00:00<00:03, 161.01it/s]\n",
      " 22%|██▏       | 159/720 [00:00<00:03, 161.61it/s]\n",
      " 24%|██▍       | 176/720 [00:01<00:03, 158.63it/s]\n",
      " 27%|██▋       | 192/720 [00:01<00:03, 153.67it/s]\n",
      " 29%|██▉       | 209/720 [00:01<00:03, 156.03it/s]\n",
      " 31%|███▏      | 226/720 [00:01<00:03, 157.48it/s]\n",
      " 34%|███▍      | 243/720 [00:01<00:02, 159.65it/s]\n",
      " 36%|███▋      | 262/720 [00:01<00:02, 168.22it/s]\n",
      " 39%|███▉      | 280/720 [00:01<00:02, 171.00it/s]\n",
      " 41%|████▏     | 298/720 [00:01<00:02, 168.03it/s]\n",
      " 44%|████▍     | 315/720 [00:01<00:02, 167.20it/s]\n",
      " 46%|████▌     | 332/720 [00:02<00:02, 167.92it/s]\n",
      " 49%|████▊     | 350/720 [00:02<00:02, 168.46it/s]\n",
      " 51%|█████▏    | 369/720 [00:02<00:02, 173.48it/s]\n",
      " 54%|█████▍    | 387/720 [00:02<00:01, 166.67it/s]\n",
      " 56%|█████▌    | 404/720 [00:02<00:01, 167.02it/s]\n",
      " 58%|█████▊    | 421/720 [00:02<00:01, 166.23it/s]\n",
      " 61%|██████    | 438/720 [00:02<00:01, 163.84it/s]\n",
      " 63%|██████▎   | 455/720 [00:02<00:01, 161.40it/s]\n",
      " 66%|██████▌   | 472/720 [00:02<00:01, 161.05it/s]\n",
      " 68%|██████▊   | 489/720 [00:02<00:01, 161.41it/s]\n",
      " 70%|███████   | 506/720 [00:03<00:01, 161.84it/s]\n",
      " 73%|███████▎  | 524/720 [00:03<00:01, 165.04it/s]\n",
      " 75%|███████▌  | 542/720 [00:03<00:01, 167.36it/s]\n",
      " 78%|███████▊  | 559/720 [00:03<00:00, 165.06it/s]\n",
      " 80%|████████  | 577/720 [00:03<00:00, 168.21it/s]\n",
      " 83%|████████▎ | 595/720 [00:03<00:00, 170.29it/s]\n",
      " 85%|████████▌ | 613/720 [00:03<00:00, 164.69it/s]\n",
      " 88%|████████▊ | 631/720 [00:03<00:00, 166.29it/s]\n",
      " 90%|█████████ | 648/720 [00:03<00:00, 162.13it/s]\n",
      " 92%|█████████▏| 665/720 [00:04<00:00, 162.06it/s]\n",
      " 95%|█████████▍| 682/720 [00:04<00:00, 162.69it/s]\n",
      " 97%|█████████▋| 699/720 [00:04<00:00, 164.09it/s]\n",
      " 99%|█████████▉| 716/720 [00:04<00:00, 165.81it/s]\n",
      "100%|██████████| 720/720 [00:04<00:00, 164.33it/s]\n"
     ]
    },
    {
     "name": "stdout",
     "output_type": "stream",
     "text": [
      "Generate dataset\n"
     ]
    },
    {
     "name": "stderr",
     "output_type": "stream",
     "text": [
      "\n",
      "  0%|          | 0/104 [00:00<?, ?it/s]\n",
      " 16%|█▋        | 17/104 [00:00<00:00, 165.78it/s]\n",
      " 33%|███▎      | 34/104 [00:00<00:00, 158.06it/s]\n",
      " 49%|████▉     | 51/104 [00:00<00:00, 160.68it/s]\n",
      " 65%|██████▌   | 68/104 [00:00<00:00, 163.92it/s]\n",
      " 84%|████████▎ | 87/104 [00:00<00:00, 169.80it/s]\n",
      "100%|██████████| 104/104 [00:00<00:00, 169.16it/s]\n"
     ]
    }
   ],
   "source": [
    "import os\n",
    "os.makedirs(f'data_{dataset}', exist_ok=True)\n",
    "\n",
    "# Extract train data\n",
    "!python -m pix2tex.dataset.dataset --equations ../datasets/{dataset}/labels.txt --images ../datasets/{dataset}/images/train --out data_{dataset}/train.pkl\n",
    "\n",
    "# Extract validation data\n",
    "!python -m pix2tex.dataset.dataset --equations ../datasets/{dataset}/labels.txt --images ../datasets/{dataset}/images/val --out data_{dataset}/val.pkl"
   ]
  },
  {
   "cell_type": "code",
   "execution_count": 1,
   "metadata": {},
   "outputs": [
    {
     "name": "stderr",
     "output_type": "stream",
     "text": [
      "wandb: Appending key for api.wandb.ai to your netrc file: C:\\Users\\valvs\\_netrc\n"
     ]
    }
   ],
   "source": [
    "!wandb login 18d0cd5017217de13ce504ee5c37e830cb05b921"
   ]
  },
  {
   "cell_type": "code",
   "execution_count": 75,
   "metadata": {},
   "outputs": [
    {
     "name": "stdout",
     "output_type": "stream",
     "text": [
      "Generate tokenizer\n",
      "\n",
      "\n",
      "\n"
     ]
    }
   ],
   "source": [
    "# Generate our own tokenizer\n",
    "!python -m pix2tex.dataset.dataset --equations ../datasets/{dataset}/labels.txt --vocab-size 8000 --out data_{dataset}/tokenizer.json"
   ]
  },
  {
   "cell_type": "code",
   "execution_count": 76,
   "metadata": {},
   "outputs": [],
   "source": [
    "# !curl -L -o weights.pth https://github.com/lukas-blecher/LaTeX-OCR/releases/download/v0.0.1/weights.pth"
   ]
  },
  {
   "cell_type": "code",
   "execution_count": null,
   "metadata": {},
   "outputs": [],
   "source": [
    "!python -m pix2tex.train --config data_{dataset}/config.yaml"
   ]
  },
  {
   "cell_type": "code",
   "execution_count": null,
   "metadata": {},
   "outputs": [
    {
     "data": {
      "text/plain": [
       "0"
      ]
     },
     "execution_count": 79,
     "metadata": {},
     "output_type": "execute_result"
    }
   ],
   "source": [
    "import os\n",
    "os.system('shutdown /s /t 10')"
   ]
  }
 ],
 "metadata": {
  "kernelspec": {
   "display_name": "latexocr",
   "language": "python",
   "name": "python3"
  },
  "language_info": {
   "codemirror_mode": {
    "name": "ipython",
    "version": 3
   },
   "file_extension": ".py",
   "mimetype": "text/x-python",
   "name": "python",
   "nbconvert_exporter": "python",
   "pygments_lexer": "ipython3",
   "version": "3.10.15"
  }
 },
 "nbformat": 4,
 "nbformat_minor": 2
}
