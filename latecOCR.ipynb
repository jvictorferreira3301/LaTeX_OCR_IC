{
 "cells": [
  {
   "cell_type": "markdown",
   "metadata": {},
   "source": [
    "<a href=\"https://colab.research.google.com/github/jvictorferreira3301/LaTeX_OCR_IC/blob/main/latecOCR.ipynb\" target=\"_parent\">\n",
    "        <img src=\"https://colab.research.google.com/assets/colab-badge.svg\" alt=\"Open In Colab\" style=\"height: 27px; margin-right: 10px;\"/>"
   ]
  },
  {
   "cell_type": "markdown",
   "metadata": {},
   "source": [
    "## LATex OCR"
   ]
  },
  {
   "cell_type": "markdown",
   "metadata": {},
   "source": [
    "The goal of this project is to create a learning based system that takes an image of a math formula and returns corresponding LaTeX code."
   ]
  },
  {
   "cell_type": "markdown",
   "metadata": {},
   "source": [
    "<div style=\"display: flex; justify-content: center;\">\n",
    "    <figure style=\"margin-right: 10px; text-align: center;\">\n",
    "        <img src=\"./assets/wf.png\" width=\"auto\" height=\"auto\" style=\"display: flex; margin:0\">\n",
    "        <figcaption>Fig. 2 - Exemplo de log do linux PTP. </figcaption>\n",
    "    </figure>\n",
    "    <figure style=\"text-align: center;\">\n",
    "        <img src=\"./assets/gif.gif\" width=\"auto\" height=\"auto\" tyle=\"display: flex; margin:10px\">\n",
    "        <figcaption> Fig. 3 - Diagrama do LinuxPTP.</figcaption>\n",
    "    </figure>\n",
    "</div>"
   ]
  },
  {
   "cell_type": "markdown",
   "metadata": {},
   "source": [
    "### Training the model"
   ]
  },
  {
   "cell_type": "markdown",
   "metadata": {},
   "source": [
    "### Model "
   ]
  },
  {
   "cell_type": "markdown",
   "metadata": {},
   "source": [
    "#### Perfomance"
   ]
  },
  {
   "cell_type": "markdown",
   "metadata": {},
   "source": [
    "### Data extraction"
   ]
  },
  {
   "cell_type": "markdown",
   "metadata": {},
   "source": [
    "### References"
   ]
  }
 ],
 "metadata": {
  "language_info": {
   "name": "python"
  }
 },
 "nbformat": 4,
 "nbformat_minor": 2
}
